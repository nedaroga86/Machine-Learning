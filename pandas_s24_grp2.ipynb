{
 "cells": [
  {
   "cell_type": "code",
   "execution_count": 1,
   "id": "331576d7",
   "metadata": {},
   "outputs": [],
   "source": [
    "import pandas as pd\n",
    "import numpy as np"
   ]
  },
  {
   "cell_type": "markdown",
   "id": "458f7c72",
   "metadata": {},
   "source": [
    "## Series"
   ]
  },
  {
   "cell_type": "code",
   "execution_count": 2,
   "id": "fcb14ea8",
   "metadata": {},
   "outputs": [
    {
     "data": {
      "text/plain": [
       "r1     7\n",
       "r2    15\n",
       "r3     4\n",
       "r4     4\n",
       "r5     7\n",
       "r6     4\n",
       "dtype: int64"
      ]
     },
     "execution_count": 2,
     "metadata": {},
     "output_type": "execute_result"
    }
   ],
   "source": [
    "s =  pd.Series([7, 15, 4, 4, 7, 4], index=['r1','r2','r3','r4','r5','r6'])\n",
    "s"
   ]
  },
  {
   "cell_type": "code",
   "execution_count": 3,
   "id": "2c0b835d",
   "metadata": {},
   "outputs": [
    {
     "data": {
      "text/plain": [
       "7"
      ]
     },
     "execution_count": 3,
     "metadata": {},
     "output_type": "execute_result"
    }
   ],
   "source": [
    "s.r1"
   ]
  },
  {
   "cell_type": "code",
   "execution_count": 4,
   "id": "101ad6e6",
   "metadata": {},
   "outputs": [
    {
     "data": {
      "text/plain": [
       "7"
      ]
     },
     "execution_count": 4,
     "metadata": {},
     "output_type": "execute_result"
    }
   ],
   "source": [
    "s[0]"
   ]
  },
  {
   "cell_type": "code",
   "execution_count": 5,
   "id": "4fc5eab6",
   "metadata": {},
   "outputs": [
    {
     "data": {
      "text/plain": [
       "array([ 7, 15,  4,  4,  7,  4], dtype=int64)"
      ]
     },
     "execution_count": 5,
     "metadata": {},
     "output_type": "execute_result"
    }
   ],
   "source": [
    "s.values"
   ]
  },
  {
   "cell_type": "code",
   "execution_count": 6,
   "id": "72499fba",
   "metadata": {},
   "outputs": [
    {
     "data": {
      "text/plain": [
       "Index(['r1', 'r2', 'r3', 'r4', 'r5', 'r6'], dtype='object')"
      ]
     },
     "execution_count": 6,
     "metadata": {},
     "output_type": "execute_result"
    }
   ],
   "source": [
    "s.index"
   ]
  },
  {
   "cell_type": "code",
   "execution_count": 7,
   "id": "355c1b05",
   "metadata": {},
   "outputs": [
    {
     "data": {
      "text/plain": [
       "4     3\n",
       "7     2\n",
       "15    1\n",
       "dtype: int64"
      ]
     },
     "execution_count": 7,
     "metadata": {},
     "output_type": "execute_result"
    }
   ],
   "source": [
    "s.value_counts()"
   ]
  },
  {
   "cell_type": "markdown",
   "id": "2653f9c4",
   "metadata": {},
   "source": [
    "## DataFrame"
   ]
  },
  {
   "cell_type": "code",
   "execution_count": 8,
   "id": "9c619b63",
   "metadata": {},
   "outputs": [],
   "source": [
    "df =  pd.DataFrame([[1,8],\n",
    "                    [3,4],\n",
    "                    [5,9],\n",
    "                    [7,2],\n",
    "                    [2,6]], \n",
    "                  index=['R1','R2','R3','R4','R5'],\n",
    "                  columns=['C1','C2'])"
   ]
  },
  {
   "cell_type": "code",
   "execution_count": 9,
   "id": "924fa02c",
   "metadata": {},
   "outputs": [
    {
     "data": {
      "text/html": [
       "<div>\n",
       "<style scoped>\n",
       "    .dataframe tbody tr th:only-of-type {\n",
       "        vertical-align: middle;\n",
       "    }\n",
       "\n",
       "    .dataframe tbody tr th {\n",
       "        vertical-align: top;\n",
       "    }\n",
       "\n",
       "    .dataframe thead th {\n",
       "        text-align: right;\n",
       "    }\n",
       "</style>\n",
       "<table border=\"1\" class=\"dataframe\">\n",
       "  <thead>\n",
       "    <tr style=\"text-align: right;\">\n",
       "      <th></th>\n",
       "      <th>C1</th>\n",
       "      <th>C2</th>\n",
       "    </tr>\n",
       "  </thead>\n",
       "  <tbody>\n",
       "    <tr>\n",
       "      <th>R1</th>\n",
       "      <td>1</td>\n",
       "      <td>8</td>\n",
       "    </tr>\n",
       "    <tr>\n",
       "      <th>R2</th>\n",
       "      <td>3</td>\n",
       "      <td>4</td>\n",
       "    </tr>\n",
       "    <tr>\n",
       "      <th>R3</th>\n",
       "      <td>5</td>\n",
       "      <td>9</td>\n",
       "    </tr>\n",
       "    <tr>\n",
       "      <th>R4</th>\n",
       "      <td>7</td>\n",
       "      <td>2</td>\n",
       "    </tr>\n",
       "    <tr>\n",
       "      <th>R5</th>\n",
       "      <td>2</td>\n",
       "      <td>6</td>\n",
       "    </tr>\n",
       "  </tbody>\n",
       "</table>\n",
       "</div>"
      ],
      "text/plain": [
       "    C1  C2\n",
       "R1   1   8\n",
       "R2   3   4\n",
       "R3   5   9\n",
       "R4   7   2\n",
       "R5   2   6"
      ]
     },
     "execution_count": 9,
     "metadata": {},
     "output_type": "execute_result"
    }
   ],
   "source": [
    "df"
   ]
  },
  {
   "cell_type": "code",
   "execution_count": 10,
   "id": "a306adf7",
   "metadata": {},
   "outputs": [
    {
     "data": {
      "text/html": [
       "<div>\n",
       "<style scoped>\n",
       "    .dataframe tbody tr th:only-of-type {\n",
       "        vertical-align: middle;\n",
       "    }\n",
       "\n",
       "    .dataframe tbody tr th {\n",
       "        vertical-align: top;\n",
       "    }\n",
       "\n",
       "    .dataframe thead th {\n",
       "        text-align: right;\n",
       "    }\n",
       "</style>\n",
       "<table border=\"1\" class=\"dataframe\">\n",
       "  <thead>\n",
       "    <tr style=\"text-align: right;\">\n",
       "      <th></th>\n",
       "      <th>C1</th>\n",
       "      <th>C2</th>\n",
       "    </tr>\n",
       "  </thead>\n",
       "  <tbody>\n",
       "    <tr>\n",
       "      <th>count</th>\n",
       "      <td>5.000000</td>\n",
       "      <td>5.000000</td>\n",
       "    </tr>\n",
       "    <tr>\n",
       "      <th>mean</th>\n",
       "      <td>3.600000</td>\n",
       "      <td>5.800000</td>\n",
       "    </tr>\n",
       "    <tr>\n",
       "      <th>std</th>\n",
       "      <td>2.408319</td>\n",
       "      <td>2.863564</td>\n",
       "    </tr>\n",
       "    <tr>\n",
       "      <th>min</th>\n",
       "      <td>1.000000</td>\n",
       "      <td>2.000000</td>\n",
       "    </tr>\n",
       "    <tr>\n",
       "      <th>25%</th>\n",
       "      <td>2.000000</td>\n",
       "      <td>4.000000</td>\n",
       "    </tr>\n",
       "    <tr>\n",
       "      <th>50%</th>\n",
       "      <td>3.000000</td>\n",
       "      <td>6.000000</td>\n",
       "    </tr>\n",
       "    <tr>\n",
       "      <th>75%</th>\n",
       "      <td>5.000000</td>\n",
       "      <td>8.000000</td>\n",
       "    </tr>\n",
       "    <tr>\n",
       "      <th>max</th>\n",
       "      <td>7.000000</td>\n",
       "      <td>9.000000</td>\n",
       "    </tr>\n",
       "  </tbody>\n",
       "</table>\n",
       "</div>"
      ],
      "text/plain": [
       "             C1        C2\n",
       "count  5.000000  5.000000\n",
       "mean   3.600000  5.800000\n",
       "std    2.408319  2.863564\n",
       "min    1.000000  2.000000\n",
       "25%    2.000000  4.000000\n",
       "50%    3.000000  6.000000\n",
       "75%    5.000000  8.000000\n",
       "max    7.000000  9.000000"
      ]
     },
     "execution_count": 10,
     "metadata": {},
     "output_type": "execute_result"
    }
   ],
   "source": [
    "df.describe()"
   ]
  },
  {
   "cell_type": "code",
   "execution_count": 11,
   "id": "0ab44f08",
   "metadata": {},
   "outputs": [
    {
     "name": "stdout",
     "output_type": "stream",
     "text": [
      "<class 'pandas.core.frame.DataFrame'>\n",
      "Index: 5 entries, R1 to R5\n",
      "Data columns (total 2 columns):\n",
      " #   Column  Non-Null Count  Dtype\n",
      "---  ------  --------------  -----\n",
      " 0   C1      5 non-null      int64\n",
      " 1   C2      5 non-null      int64\n",
      "dtypes: int64(2)\n",
      "memory usage: 120.0+ bytes\n"
     ]
    }
   ],
   "source": [
    "df.info()"
   ]
  },
  {
   "cell_type": "code",
   "execution_count": 12,
   "id": "48a8bb1b",
   "metadata": {},
   "outputs": [
    {
     "data": {
      "text/html": [
       "<div>\n",
       "<style scoped>\n",
       "    .dataframe tbody tr th:only-of-type {\n",
       "        vertical-align: middle;\n",
       "    }\n",
       "\n",
       "    .dataframe tbody tr th {\n",
       "        vertical-align: top;\n",
       "    }\n",
       "\n",
       "    .dataframe thead th {\n",
       "        text-align: right;\n",
       "    }\n",
       "</style>\n",
       "<table border=\"1\" class=\"dataframe\">\n",
       "  <thead>\n",
       "    <tr style=\"text-align: right;\">\n",
       "      <th></th>\n",
       "      <th>C1</th>\n",
       "      <th>C2</th>\n",
       "    </tr>\n",
       "  </thead>\n",
       "  <tbody>\n",
       "    <tr>\n",
       "      <th>R1</th>\n",
       "      <td>1</td>\n",
       "      <td>8</td>\n",
       "    </tr>\n",
       "    <tr>\n",
       "      <th>R2</th>\n",
       "      <td>3</td>\n",
       "      <td>4</td>\n",
       "    </tr>\n",
       "    <tr>\n",
       "      <th>R3</th>\n",
       "      <td>5</td>\n",
       "      <td>9</td>\n",
       "    </tr>\n",
       "  </tbody>\n",
       "</table>\n",
       "</div>"
      ],
      "text/plain": [
       "    C1  C2\n",
       "R1   1   8\n",
       "R2   3   4\n",
       "R3   5   9"
      ]
     },
     "execution_count": 12,
     "metadata": {},
     "output_type": "execute_result"
    }
   ],
   "source": [
    "df.head(3)"
   ]
  },
  {
   "cell_type": "code",
   "execution_count": 13,
   "id": "9cdaf605",
   "metadata": {},
   "outputs": [
    {
     "data": {
      "text/html": [
       "<div>\n",
       "<style scoped>\n",
       "    .dataframe tbody tr th:only-of-type {\n",
       "        vertical-align: middle;\n",
       "    }\n",
       "\n",
       "    .dataframe tbody tr th {\n",
       "        vertical-align: top;\n",
       "    }\n",
       "\n",
       "    .dataframe thead th {\n",
       "        text-align: right;\n",
       "    }\n",
       "</style>\n",
       "<table border=\"1\" class=\"dataframe\">\n",
       "  <thead>\n",
       "    <tr style=\"text-align: right;\">\n",
       "      <th></th>\n",
       "      <th>C1</th>\n",
       "      <th>C2</th>\n",
       "    </tr>\n",
       "  </thead>\n",
       "  <tbody>\n",
       "    <tr>\n",
       "      <th>R3</th>\n",
       "      <td>5</td>\n",
       "      <td>9</td>\n",
       "    </tr>\n",
       "    <tr>\n",
       "      <th>R4</th>\n",
       "      <td>7</td>\n",
       "      <td>2</td>\n",
       "    </tr>\n",
       "    <tr>\n",
       "      <th>R5</th>\n",
       "      <td>2</td>\n",
       "      <td>6</td>\n",
       "    </tr>\n",
       "  </tbody>\n",
       "</table>\n",
       "</div>"
      ],
      "text/plain": [
       "    C1  C2\n",
       "R3   5   9\n",
       "R4   7   2\n",
       "R5   2   6"
      ]
     },
     "execution_count": 13,
     "metadata": {},
     "output_type": "execute_result"
    }
   ],
   "source": [
    "df.tail(3)"
   ]
  },
  {
   "cell_type": "code",
   "execution_count": 14,
   "id": "a3f01944",
   "metadata": {},
   "outputs": [
    {
     "data": {
      "text/html": [
       "<div>\n",
       "<style scoped>\n",
       "    .dataframe tbody tr th:only-of-type {\n",
       "        vertical-align: middle;\n",
       "    }\n",
       "\n",
       "    .dataframe tbody tr th {\n",
       "        vertical-align: top;\n",
       "    }\n",
       "\n",
       "    .dataframe thead th {\n",
       "        text-align: right;\n",
       "    }\n",
       "</style>\n",
       "<table border=\"1\" class=\"dataframe\">\n",
       "  <thead>\n",
       "    <tr style=\"text-align: right;\">\n",
       "      <th></th>\n",
       "      <th>C1</th>\n",
       "      <th>C2</th>\n",
       "    </tr>\n",
       "  </thead>\n",
       "  <tbody>\n",
       "    <tr>\n",
       "      <th>R1</th>\n",
       "      <td>1</td>\n",
       "      <td>8</td>\n",
       "    </tr>\n",
       "    <tr>\n",
       "      <th>R2</th>\n",
       "      <td>3</td>\n",
       "      <td>4</td>\n",
       "    </tr>\n",
       "    <tr>\n",
       "      <th>R3</th>\n",
       "      <td>5</td>\n",
       "      <td>9</td>\n",
       "    </tr>\n",
       "  </tbody>\n",
       "</table>\n",
       "</div>"
      ],
      "text/plain": [
       "    C1  C2\n",
       "R1   1   8\n",
       "R2   3   4\n",
       "R3   5   9"
      ]
     },
     "execution_count": 14,
     "metadata": {},
     "output_type": "execute_result"
    }
   ],
   "source": [
    "df[:3]"
   ]
  },
  {
   "cell_type": "code",
   "execution_count": 15,
   "id": "a928dd67",
   "metadata": {},
   "outputs": [
    {
     "data": {
      "text/plain": [
       "9"
      ]
     },
     "execution_count": 15,
     "metadata": {},
     "output_type": "execute_result"
    }
   ],
   "source": [
    "df.iloc[2,1]"
   ]
  },
  {
   "cell_type": "code",
   "execution_count": 16,
   "id": "ada4a43f",
   "metadata": {},
   "outputs": [
    {
     "data": {
      "text/plain": [
       "array([[1, 8],\n",
       "       [3, 4],\n",
       "       [5, 9],\n",
       "       [7, 2],\n",
       "       [2, 6]], dtype=int64)"
      ]
     },
     "execution_count": 16,
     "metadata": {},
     "output_type": "execute_result"
    }
   ],
   "source": [
    "df.values"
   ]
  },
  {
   "cell_type": "code",
   "execution_count": 17,
   "id": "6cd172a3",
   "metadata": {},
   "outputs": [
    {
     "data": {
      "text/plain": [
       "Index(['R1', 'R2', 'R3', 'R4', 'R5'], dtype='object')"
      ]
     },
     "execution_count": 17,
     "metadata": {},
     "output_type": "execute_result"
    }
   ],
   "source": [
    "df.index"
   ]
  },
  {
   "cell_type": "code",
   "execution_count": 18,
   "id": "cb5ae13a",
   "metadata": {},
   "outputs": [
    {
     "data": {
      "text/plain": [
       "Index(['C1', 'C2'], dtype='object')"
      ]
     },
     "execution_count": 18,
     "metadata": {},
     "output_type": "execute_result"
    }
   ],
   "source": [
    "df.columns"
   ]
  },
  {
   "cell_type": "code",
   "execution_count": 19,
   "id": "390dc5ce",
   "metadata": {},
   "outputs": [
    {
     "data": {
      "text/html": [
       "<div>\n",
       "<style scoped>\n",
       "    .dataframe tbody tr th:only-of-type {\n",
       "        vertical-align: middle;\n",
       "    }\n",
       "\n",
       "    .dataframe tbody tr th {\n",
       "        vertical-align: top;\n",
       "    }\n",
       "\n",
       "    .dataframe thead th {\n",
       "        text-align: right;\n",
       "    }\n",
       "</style>\n",
       "<table border=\"1\" class=\"dataframe\">\n",
       "  <thead>\n",
       "    <tr style=\"text-align: right;\">\n",
       "      <th></th>\n",
       "      <th>C1</th>\n",
       "      <th>C2</th>\n",
       "    </tr>\n",
       "  </thead>\n",
       "  <tbody>\n",
       "    <tr>\n",
       "      <th>R1</th>\n",
       "      <td>1.0</td>\n",
       "      <td>NaN</td>\n",
       "    </tr>\n",
       "    <tr>\n",
       "      <th>R2</th>\n",
       "      <td>3.0</td>\n",
       "      <td>4.0</td>\n",
       "    </tr>\n",
       "    <tr>\n",
       "      <th>R3</th>\n",
       "      <td>NaN</td>\n",
       "      <td>NaN</td>\n",
       "    </tr>\n",
       "    <tr>\n",
       "      <th>R4</th>\n",
       "      <td>NaN</td>\n",
       "      <td>2.0</td>\n",
       "    </tr>\n",
       "    <tr>\n",
       "      <th>R5</th>\n",
       "      <td>2.0</td>\n",
       "      <td>NaN</td>\n",
       "    </tr>\n",
       "  </tbody>\n",
       "</table>\n",
       "</div>"
      ],
      "text/plain": [
       "     C1   C2\n",
       "R1  1.0  NaN\n",
       "R2  3.0  4.0\n",
       "R3  NaN  NaN\n",
       "R4  NaN  2.0\n",
       "R5  2.0  NaN"
      ]
     },
     "execution_count": 19,
     "metadata": {},
     "output_type": "execute_result"
    }
   ],
   "source": [
    "df[df<5]"
   ]
  },
  {
   "cell_type": "code",
   "execution_count": 20,
   "id": "ff0126ef",
   "metadata": {},
   "outputs": [
    {
     "data": {
      "text/html": [
       "<div>\n",
       "<style scoped>\n",
       "    .dataframe tbody tr th:only-of-type {\n",
       "        vertical-align: middle;\n",
       "    }\n",
       "\n",
       "    .dataframe tbody tr th {\n",
       "        vertical-align: top;\n",
       "    }\n",
       "\n",
       "    .dataframe thead th {\n",
       "        text-align: right;\n",
       "    }\n",
       "</style>\n",
       "<table border=\"1\" class=\"dataframe\">\n",
       "  <thead>\n",
       "    <tr style=\"text-align: right;\">\n",
       "      <th></th>\n",
       "      <th>R1</th>\n",
       "      <th>R2</th>\n",
       "      <th>R3</th>\n",
       "      <th>R4</th>\n",
       "      <th>R5</th>\n",
       "    </tr>\n",
       "  </thead>\n",
       "  <tbody>\n",
       "    <tr>\n",
       "      <th>C1</th>\n",
       "      <td>1</td>\n",
       "      <td>3</td>\n",
       "      <td>5</td>\n",
       "      <td>7</td>\n",
       "      <td>2</td>\n",
       "    </tr>\n",
       "    <tr>\n",
       "      <th>C2</th>\n",
       "      <td>8</td>\n",
       "      <td>4</td>\n",
       "      <td>9</td>\n",
       "      <td>2</td>\n",
       "      <td>6</td>\n",
       "    </tr>\n",
       "  </tbody>\n",
       "</table>\n",
       "</div>"
      ],
      "text/plain": [
       "    R1  R2  R3  R4  R5\n",
       "C1   1   3   5   7   2\n",
       "C2   8   4   9   2   6"
      ]
     },
     "execution_count": 20,
     "metadata": {},
     "output_type": "execute_result"
    }
   ],
   "source": [
    "df.T"
   ]
  },
  {
   "cell_type": "code",
   "execution_count": 21,
   "id": "1dce3214",
   "metadata": {},
   "outputs": [
    {
     "data": {
      "text/html": [
       "<div>\n",
       "<style scoped>\n",
       "    .dataframe tbody tr th:only-of-type {\n",
       "        vertical-align: middle;\n",
       "    }\n",
       "\n",
       "    .dataframe tbody tr th {\n",
       "        vertical-align: top;\n",
       "    }\n",
       "\n",
       "    .dataframe thead th {\n",
       "        text-align: right;\n",
       "    }\n",
       "</style>\n",
       "<table border=\"1\" class=\"dataframe\">\n",
       "  <thead>\n",
       "    <tr style=\"text-align: right;\">\n",
       "      <th></th>\n",
       "      <th>C1</th>\n",
       "      <th>C2</th>\n",
       "    </tr>\n",
       "  </thead>\n",
       "  <tbody>\n",
       "    <tr>\n",
       "      <th>R1</th>\n",
       "      <td>1</td>\n",
       "      <td>8</td>\n",
       "    </tr>\n",
       "    <tr>\n",
       "      <th>R2</th>\n",
       "      <td>3</td>\n",
       "      <td>4</td>\n",
       "    </tr>\n",
       "    <tr>\n",
       "      <th>R3</th>\n",
       "      <td>5</td>\n",
       "      <td>9</td>\n",
       "    </tr>\n",
       "    <tr>\n",
       "      <th>R4</th>\n",
       "      <td>7</td>\n",
       "      <td>2</td>\n",
       "    </tr>\n",
       "    <tr>\n",
       "      <th>R5</th>\n",
       "      <td>2</td>\n",
       "      <td>6</td>\n",
       "    </tr>\n",
       "  </tbody>\n",
       "</table>\n",
       "</div>"
      ],
      "text/plain": [
       "    C1  C2\n",
       "R1   1   8\n",
       "R2   3   4\n",
       "R3   5   9\n",
       "R4   7   2\n",
       "R5   2   6"
      ]
     },
     "execution_count": 21,
     "metadata": {},
     "output_type": "execute_result"
    }
   ],
   "source": [
    "df"
   ]
  },
  {
   "cell_type": "code",
   "execution_count": 22,
   "id": "7f318dda",
   "metadata": {},
   "outputs": [
    {
     "data": {
      "text/html": [
       "<div>\n",
       "<style scoped>\n",
       "    .dataframe tbody tr th:only-of-type {\n",
       "        vertical-align: middle;\n",
       "    }\n",
       "\n",
       "    .dataframe tbody tr th {\n",
       "        vertical-align: top;\n",
       "    }\n",
       "\n",
       "    .dataframe thead th {\n",
       "        text-align: right;\n",
       "    }\n",
       "</style>\n",
       "<table border=\"1\" class=\"dataframe\">\n",
       "  <thead>\n",
       "    <tr style=\"text-align: right;\">\n",
       "      <th></th>\n",
       "      <th>C1</th>\n",
       "      <th>C2</th>\n",
       "    </tr>\n",
       "  </thead>\n",
       "  <tbody>\n",
       "    <tr>\n",
       "      <th>R1</th>\n",
       "      <td>1</td>\n",
       "      <td>8</td>\n",
       "    </tr>\n",
       "    <tr>\n",
       "      <th>R2</th>\n",
       "      <td>3</td>\n",
       "      <td>4</td>\n",
       "    </tr>\n",
       "    <tr>\n",
       "      <th>R4</th>\n",
       "      <td>7</td>\n",
       "      <td>2</td>\n",
       "    </tr>\n",
       "    <tr>\n",
       "      <th>R5</th>\n",
       "      <td>2</td>\n",
       "      <td>6</td>\n",
       "    </tr>\n",
       "  </tbody>\n",
       "</table>\n",
       "</div>"
      ],
      "text/plain": [
       "    C1  C2\n",
       "R1   1   8\n",
       "R2   3   4\n",
       "R4   7   2\n",
       "R5   2   6"
      ]
     },
     "execution_count": 22,
     "metadata": {},
     "output_type": "execute_result"
    }
   ],
   "source": [
    "df.drop('R3', axis=0)"
   ]
  },
  {
   "cell_type": "code",
   "execution_count": 23,
   "id": "5a9882c3",
   "metadata": {},
   "outputs": [
    {
     "data": {
      "text/html": [
       "<div>\n",
       "<style scoped>\n",
       "    .dataframe tbody tr th:only-of-type {\n",
       "        vertical-align: middle;\n",
       "    }\n",
       "\n",
       "    .dataframe tbody tr th {\n",
       "        vertical-align: top;\n",
       "    }\n",
       "\n",
       "    .dataframe thead th {\n",
       "        text-align: right;\n",
       "    }\n",
       "</style>\n",
       "<table border=\"1\" class=\"dataframe\">\n",
       "  <thead>\n",
       "    <tr style=\"text-align: right;\">\n",
       "      <th></th>\n",
       "      <th>C1</th>\n",
       "    </tr>\n",
       "  </thead>\n",
       "  <tbody>\n",
       "    <tr>\n",
       "      <th>R1</th>\n",
       "      <td>1</td>\n",
       "    </tr>\n",
       "    <tr>\n",
       "      <th>R2</th>\n",
       "      <td>3</td>\n",
       "    </tr>\n",
       "    <tr>\n",
       "      <th>R3</th>\n",
       "      <td>5</td>\n",
       "    </tr>\n",
       "    <tr>\n",
       "      <th>R4</th>\n",
       "      <td>7</td>\n",
       "    </tr>\n",
       "    <tr>\n",
       "      <th>R5</th>\n",
       "      <td>2</td>\n",
       "    </tr>\n",
       "  </tbody>\n",
       "</table>\n",
       "</div>"
      ],
      "text/plain": [
       "    C1\n",
       "R1   1\n",
       "R2   3\n",
       "R3   5\n",
       "R4   7\n",
       "R5   2"
      ]
     },
     "execution_count": 23,
     "metadata": {},
     "output_type": "execute_result"
    }
   ],
   "source": [
    "df.drop('C2', axis=1)"
   ]
  },
  {
   "cell_type": "code",
   "execution_count": 24,
   "id": "c902393c",
   "metadata": {},
   "outputs": [
    {
     "data": {
      "text/html": [
       "<div>\n",
       "<style scoped>\n",
       "    .dataframe tbody tr th:only-of-type {\n",
       "        vertical-align: middle;\n",
       "    }\n",
       "\n",
       "    .dataframe tbody tr th {\n",
       "        vertical-align: top;\n",
       "    }\n",
       "\n",
       "    .dataframe thead th {\n",
       "        text-align: right;\n",
       "    }\n",
       "</style>\n",
       "<table border=\"1\" class=\"dataframe\">\n",
       "  <thead>\n",
       "    <tr style=\"text-align: right;\">\n",
       "      <th></th>\n",
       "      <th>C1</th>\n",
       "      <th>C2</th>\n",
       "    </tr>\n",
       "  </thead>\n",
       "  <tbody>\n",
       "    <tr>\n",
       "      <th>R1</th>\n",
       "      <td>1</td>\n",
       "      <td>8</td>\n",
       "    </tr>\n",
       "    <tr>\n",
       "      <th>R2</th>\n",
       "      <td>3</td>\n",
       "      <td>4</td>\n",
       "    </tr>\n",
       "    <tr>\n",
       "      <th>R3</th>\n",
       "      <td>5</td>\n",
       "      <td>9</td>\n",
       "    </tr>\n",
       "    <tr>\n",
       "      <th>R4</th>\n",
       "      <td>7</td>\n",
       "      <td>2</td>\n",
       "    </tr>\n",
       "    <tr>\n",
       "      <th>R5</th>\n",
       "      <td>2</td>\n",
       "      <td>6</td>\n",
       "    </tr>\n",
       "  </tbody>\n",
       "</table>\n",
       "</div>"
      ],
      "text/plain": [
       "    C1  C2\n",
       "R1   1   8\n",
       "R2   3   4\n",
       "R3   5   9\n",
       "R4   7   2\n",
       "R5   2   6"
      ]
     },
     "execution_count": 24,
     "metadata": {},
     "output_type": "execute_result"
    }
   ],
   "source": [
    "df"
   ]
  },
  {
   "cell_type": "markdown",
   "id": "cbed5734",
   "metadata": {},
   "source": [
    "## Other examples"
   ]
  },
  {
   "cell_type": "code",
   "execution_count": 28,
   "id": "a17bceec",
   "metadata": {},
   "outputs": [
    {
     "data": {
      "text/html": [
       "<div>\n",
       "<style scoped>\n",
       "    .dataframe tbody tr th:only-of-type {\n",
       "        vertical-align: middle;\n",
       "    }\n",
       "\n",
       "    .dataframe tbody tr th {\n",
       "        vertical-align: top;\n",
       "    }\n",
       "\n",
       "    .dataframe thead th {\n",
       "        text-align: right;\n",
       "    }\n",
       "</style>\n",
       "<table border=\"1\" class=\"dataframe\">\n",
       "  <thead>\n",
       "    <tr style=\"text-align: right;\">\n",
       "      <th></th>\n",
       "      <th>x1</th>\n",
       "      <th>x2</th>\n",
       "      <th>x3</th>\n",
       "    </tr>\n",
       "  </thead>\n",
       "  <tbody>\n",
       "    <tr>\n",
       "      <th>0</th>\n",
       "      <td>1</td>\n",
       "      <td>3</td>\n",
       "      <td>5</td>\n",
       "    </tr>\n",
       "    <tr>\n",
       "      <th>1</th>\n",
       "      <td>2</td>\n",
       "      <td>4</td>\n",
       "      <td>6</td>\n",
       "    </tr>\n",
       "  </tbody>\n",
       "</table>\n",
       "</div>"
      ],
      "text/plain": [
       "   x1  x2  x3\n",
       "0   1   3   5\n",
       "1   2   4   6"
      ]
     },
     "execution_count": 28,
     "metadata": {},
     "output_type": "execute_result"
    }
   ],
   "source": [
    "df = pd.DataFrame({'x1':[1,2], 'x2':[3,4], 'x3':[5,6]})\n",
    "df"
   ]
  },
  {
   "cell_type": "code",
   "execution_count": 29,
   "id": "68b281c9",
   "metadata": {},
   "outputs": [
    {
     "data": {
      "text/html": [
       "<div>\n",
       "<style scoped>\n",
       "    .dataframe tbody tr th:only-of-type {\n",
       "        vertical-align: middle;\n",
       "    }\n",
       "\n",
       "    .dataframe tbody tr th {\n",
       "        vertical-align: top;\n",
       "    }\n",
       "\n",
       "    .dataframe thead th {\n",
       "        text-align: right;\n",
       "    }\n",
       "</style>\n",
       "<table border=\"1\" class=\"dataframe\">\n",
       "  <thead>\n",
       "    <tr style=\"text-align: right;\">\n",
       "      <th></th>\n",
       "      <th>Name</th>\n",
       "      <th>Location</th>\n",
       "      <th>Age</th>\n",
       "    </tr>\n",
       "  </thead>\n",
       "  <tbody>\n",
       "    <tr>\n",
       "      <th>0</th>\n",
       "      <td>Mike</td>\n",
       "      <td>Montreal</td>\n",
       "      <td>22</td>\n",
       "    </tr>\n",
       "    <tr>\n",
       "      <th>1</th>\n",
       "      <td>Daniel</td>\n",
       "      <td>Laval</td>\n",
       "      <td>33</td>\n",
       "    </tr>\n",
       "    <tr>\n",
       "      <th>2</th>\n",
       "      <td>Anna</td>\n",
       "      <td>Montreal</td>\n",
       "      <td>44</td>\n",
       "    </tr>\n",
       "    <tr>\n",
       "      <th>3</th>\n",
       "      <td>Sara</td>\n",
       "      <td>Brossard</td>\n",
       "      <td>55</td>\n",
       "    </tr>\n",
       "    <tr>\n",
       "      <th>4</th>\n",
       "      <td>James</td>\n",
       "      <td>Laval</td>\n",
       "      <td>66</td>\n",
       "    </tr>\n",
       "  </tbody>\n",
       "</table>\n",
       "</div>"
      ],
      "text/plain": [
       "     Name  Location  Age\n",
       "0    Mike  Montreal   22\n",
       "1  Daniel     Laval   33\n",
       "2    Anna  Montreal   44\n",
       "3    Sara  Brossard   55\n",
       "4   James     Laval   66"
      ]
     },
     "execution_count": 29,
     "metadata": {},
     "output_type": "execute_result"
    }
   ],
   "source": [
    "data = {'Name':['Mike','Daniel','Anna','Sara','James'],\n",
    "        'Location':['Montreal','Laval','Montreal','Brossard','Laval'],\n",
    "        'Age':[22,33,44,55,66]}\n",
    "\n",
    "df = pd.DataFrame(data)\n",
    "df"
   ]
  },
  {
   "cell_type": "code",
   "execution_count": 30,
   "id": "f82c9a5f",
   "metadata": {},
   "outputs": [
    {
     "name": "stdout",
     "output_type": "stream",
     "text": [
      "<class 'pandas.core.frame.DataFrame'>\n",
      "RangeIndex: 5 entries, 0 to 4\n",
      "Data columns (total 3 columns):\n",
      " #   Column    Non-Null Count  Dtype \n",
      "---  ------    --------------  ----- \n",
      " 0   Name      5 non-null      object\n",
      " 1   Location  5 non-null      object\n",
      " 2   Age       5 non-null      int64 \n",
      "dtypes: int64(1), object(2)\n",
      "memory usage: 252.0+ bytes\n"
     ]
    }
   ],
   "source": [
    "df.info()"
   ]
  },
  {
   "cell_type": "code",
   "execution_count": 31,
   "id": "ae702875",
   "metadata": {},
   "outputs": [
    {
     "data": {
      "text/html": [
       "<div>\n",
       "<style scoped>\n",
       "    .dataframe tbody tr th:only-of-type {\n",
       "        vertical-align: middle;\n",
       "    }\n",
       "\n",
       "    .dataframe tbody tr th {\n",
       "        vertical-align: top;\n",
       "    }\n",
       "\n",
       "    .dataframe thead th {\n",
       "        text-align: right;\n",
       "    }\n",
       "</style>\n",
       "<table border=\"1\" class=\"dataframe\">\n",
       "  <thead>\n",
       "    <tr style=\"text-align: right;\">\n",
       "      <th></th>\n",
       "      <th>Age</th>\n",
       "    </tr>\n",
       "  </thead>\n",
       "  <tbody>\n",
       "    <tr>\n",
       "      <th>count</th>\n",
       "      <td>5.000000</td>\n",
       "    </tr>\n",
       "    <tr>\n",
       "      <th>mean</th>\n",
       "      <td>44.000000</td>\n",
       "    </tr>\n",
       "    <tr>\n",
       "      <th>std</th>\n",
       "      <td>17.392527</td>\n",
       "    </tr>\n",
       "    <tr>\n",
       "      <th>min</th>\n",
       "      <td>22.000000</td>\n",
       "    </tr>\n",
       "    <tr>\n",
       "      <th>25%</th>\n",
       "      <td>33.000000</td>\n",
       "    </tr>\n",
       "    <tr>\n",
       "      <th>50%</th>\n",
       "      <td>44.000000</td>\n",
       "    </tr>\n",
       "    <tr>\n",
       "      <th>75%</th>\n",
       "      <td>55.000000</td>\n",
       "    </tr>\n",
       "    <tr>\n",
       "      <th>max</th>\n",
       "      <td>66.000000</td>\n",
       "    </tr>\n",
       "  </tbody>\n",
       "</table>\n",
       "</div>"
      ],
      "text/plain": [
       "             Age\n",
       "count   5.000000\n",
       "mean   44.000000\n",
       "std    17.392527\n",
       "min    22.000000\n",
       "25%    33.000000\n",
       "50%    44.000000\n",
       "75%    55.000000\n",
       "max    66.000000"
      ]
     },
     "execution_count": 31,
     "metadata": {},
     "output_type": "execute_result"
    }
   ],
   "source": [
    "df.describe()"
   ]
  },
  {
   "cell_type": "code",
   "execution_count": 32,
   "id": "b046e45f",
   "metadata": {},
   "outputs": [
    {
     "data": {
      "text/html": [
       "<div>\n",
       "<style scoped>\n",
       "    .dataframe tbody tr th:only-of-type {\n",
       "        vertical-align: middle;\n",
       "    }\n",
       "\n",
       "    .dataframe tbody tr th {\n",
       "        vertical-align: top;\n",
       "    }\n",
       "\n",
       "    .dataframe thead th {\n",
       "        text-align: right;\n",
       "    }\n",
       "</style>\n",
       "<table border=\"1\" class=\"dataframe\">\n",
       "  <thead>\n",
       "    <tr style=\"text-align: right;\">\n",
       "      <th></th>\n",
       "      <th>Age</th>\n",
       "      <th>Location</th>\n",
       "      <th>Name</th>\n",
       "    </tr>\n",
       "  </thead>\n",
       "  <tbody>\n",
       "    <tr>\n",
       "      <th>0</th>\n",
       "      <td>22</td>\n",
       "      <td>Montreal</td>\n",
       "      <td>Mike</td>\n",
       "    </tr>\n",
       "    <tr>\n",
       "      <th>1</th>\n",
       "      <td>33</td>\n",
       "      <td>Laval</td>\n",
       "      <td>Daniel</td>\n",
       "    </tr>\n",
       "    <tr>\n",
       "      <th>2</th>\n",
       "      <td>44</td>\n",
       "      <td>Montreal</td>\n",
       "      <td>Anna</td>\n",
       "    </tr>\n",
       "    <tr>\n",
       "      <th>3</th>\n",
       "      <td>55</td>\n",
       "      <td>Brossard</td>\n",
       "      <td>Sara</td>\n",
       "    </tr>\n",
       "    <tr>\n",
       "      <th>4</th>\n",
       "      <td>66</td>\n",
       "      <td>Laval</td>\n",
       "      <td>James</td>\n",
       "    </tr>\n",
       "  </tbody>\n",
       "</table>\n",
       "</div>"
      ],
      "text/plain": [
       "   Age  Location    Name\n",
       "0   22  Montreal    Mike\n",
       "1   33     Laval  Daniel\n",
       "2   44  Montreal    Anna\n",
       "3   55  Brossard    Sara\n",
       "4   66     Laval   James"
      ]
     },
     "execution_count": 32,
     "metadata": {},
     "output_type": "execute_result"
    }
   ],
   "source": [
    "df.sort_index(axis=1)"
   ]
  },
  {
   "cell_type": "code",
   "execution_count": 35,
   "id": "a253d886",
   "metadata": {},
   "outputs": [
    {
     "data": {
      "text/html": [
       "<div>\n",
       "<style scoped>\n",
       "    .dataframe tbody tr th:only-of-type {\n",
       "        vertical-align: middle;\n",
       "    }\n",
       "\n",
       "    .dataframe tbody tr th {\n",
       "        vertical-align: top;\n",
       "    }\n",
       "\n",
       "    .dataframe thead th {\n",
       "        text-align: right;\n",
       "    }\n",
       "</style>\n",
       "<table border=\"1\" class=\"dataframe\">\n",
       "  <thead>\n",
       "    <tr style=\"text-align: right;\">\n",
       "      <th></th>\n",
       "      <th>Name</th>\n",
       "      <th>Location</th>\n",
       "      <th>Age</th>\n",
       "    </tr>\n",
       "  </thead>\n",
       "  <tbody>\n",
       "    <tr>\n",
       "      <th>4</th>\n",
       "      <td>James</td>\n",
       "      <td>Laval</td>\n",
       "      <td>66</td>\n",
       "    </tr>\n",
       "    <tr>\n",
       "      <th>3</th>\n",
       "      <td>Sara</td>\n",
       "      <td>Brossard</td>\n",
       "      <td>55</td>\n",
       "    </tr>\n",
       "    <tr>\n",
       "      <th>2</th>\n",
       "      <td>Anna</td>\n",
       "      <td>Montreal</td>\n",
       "      <td>44</td>\n",
       "    </tr>\n",
       "    <tr>\n",
       "      <th>1</th>\n",
       "      <td>Daniel</td>\n",
       "      <td>Laval</td>\n",
       "      <td>33</td>\n",
       "    </tr>\n",
       "    <tr>\n",
       "      <th>0</th>\n",
       "      <td>Mike</td>\n",
       "      <td>Montreal</td>\n",
       "      <td>22</td>\n",
       "    </tr>\n",
       "  </tbody>\n",
       "</table>\n",
       "</div>"
      ],
      "text/plain": [
       "     Name  Location  Age\n",
       "4   James     Laval   66\n",
       "3    Sara  Brossard   55\n",
       "2    Anna  Montreal   44\n",
       "1  Daniel     Laval   33\n",
       "0    Mike  Montreal   22"
      ]
     },
     "execution_count": 35,
     "metadata": {},
     "output_type": "execute_result"
    }
   ],
   "source": [
    "df.sort_values(by='Age', ascending=False)"
   ]
  },
  {
   "cell_type": "code",
   "execution_count": 36,
   "id": "1396cbb0",
   "metadata": {},
   "outputs": [
    {
     "data": {
      "text/html": [
       "<div>\n",
       "<style scoped>\n",
       "    .dataframe tbody tr th:only-of-type {\n",
       "        vertical-align: middle;\n",
       "    }\n",
       "\n",
       "    .dataframe tbody tr th {\n",
       "        vertical-align: top;\n",
       "    }\n",
       "\n",
       "    .dataframe thead th {\n",
       "        text-align: right;\n",
       "    }\n",
       "</style>\n",
       "<table border=\"1\" class=\"dataframe\">\n",
       "  <thead>\n",
       "    <tr style=\"text-align: right;\">\n",
       "      <th></th>\n",
       "      <th>Name</th>\n",
       "      <th>Location</th>\n",
       "      <th>Age</th>\n",
       "    </tr>\n",
       "  </thead>\n",
       "  <tbody>\n",
       "    <tr>\n",
       "      <th>0</th>\n",
       "      <td>Mike</td>\n",
       "      <td>Montreal</td>\n",
       "      <td>22</td>\n",
       "    </tr>\n",
       "    <tr>\n",
       "      <th>1</th>\n",
       "      <td>Daniel</td>\n",
       "      <td>Laval</td>\n",
       "      <td>33</td>\n",
       "    </tr>\n",
       "  </tbody>\n",
       "</table>\n",
       "</div>"
      ],
      "text/plain": [
       "     Name  Location  Age\n",
       "0    Mike  Montreal   22\n",
       "1  Daniel     Laval   33"
      ]
     },
     "execution_count": 36,
     "metadata": {},
     "output_type": "execute_result"
    }
   ],
   "source": [
    "df[df.Age < 40]"
   ]
  },
  {
   "cell_type": "code",
   "execution_count": 37,
   "id": "fcece5cd",
   "metadata": {},
   "outputs": [
    {
     "data": {
      "text/html": [
       "<div>\n",
       "<style scoped>\n",
       "    .dataframe tbody tr th:only-of-type {\n",
       "        vertical-align: middle;\n",
       "    }\n",
       "\n",
       "    .dataframe tbody tr th {\n",
       "        vertical-align: top;\n",
       "    }\n",
       "\n",
       "    .dataframe thead th {\n",
       "        text-align: right;\n",
       "    }\n",
       "</style>\n",
       "<table border=\"1\" class=\"dataframe\">\n",
       "  <thead>\n",
       "    <tr style=\"text-align: right;\">\n",
       "      <th></th>\n",
       "      <th>Name</th>\n",
       "      <th>Location</th>\n",
       "      <th>Age</th>\n",
       "    </tr>\n",
       "  </thead>\n",
       "  <tbody>\n",
       "    <tr>\n",
       "      <th>0</th>\n",
       "      <td>Mike</td>\n",
       "      <td>Montreal</td>\n",
       "      <td>22</td>\n",
       "    </tr>\n",
       "    <tr>\n",
       "      <th>1</th>\n",
       "      <td>Daniel</td>\n",
       "      <td>Laval</td>\n",
       "      <td>33</td>\n",
       "    </tr>\n",
       "    <tr>\n",
       "      <th>2</th>\n",
       "      <td>Anna</td>\n",
       "      <td>Montreal</td>\n",
       "      <td>44</td>\n",
       "    </tr>\n",
       "    <tr>\n",
       "      <th>3</th>\n",
       "      <td>Sara</td>\n",
       "      <td>Brossard</td>\n",
       "      <td>55</td>\n",
       "    </tr>\n",
       "    <tr>\n",
       "      <th>4</th>\n",
       "      <td>James</td>\n",
       "      <td>Laval</td>\n",
       "      <td>66</td>\n",
       "    </tr>\n",
       "  </tbody>\n",
       "</table>\n",
       "</div>"
      ],
      "text/plain": [
       "     Name  Location  Age\n",
       "0    Mike  Montreal   22\n",
       "1  Daniel     Laval   33\n",
       "2    Anna  Montreal   44\n",
       "3    Sara  Brossard   55\n",
       "4   James     Laval   66"
      ]
     },
     "execution_count": 37,
     "metadata": {},
     "output_type": "execute_result"
    }
   ],
   "source": [
    "df"
   ]
  },
  {
   "cell_type": "code",
   "execution_count": 38,
   "id": "788f15fd",
   "metadata": {},
   "outputs": [
    {
     "data": {
      "text/plain": [
       "'Mike'"
      ]
     },
     "execution_count": 38,
     "metadata": {},
     "output_type": "execute_result"
    }
   ],
   "source": [
    "df.iloc[0][0]"
   ]
  },
  {
   "cell_type": "code",
   "execution_count": 39,
   "id": "4af56024",
   "metadata": {},
   "outputs": [
    {
     "data": {
      "text/plain": [
       "'Mike'"
      ]
     },
     "execution_count": 39,
     "metadata": {},
     "output_type": "execute_result"
    }
   ],
   "source": [
    "df.iloc[0]['Name']"
   ]
  },
  {
   "cell_type": "code",
   "execution_count": 40,
   "id": "bd797d72",
   "metadata": {},
   "outputs": [
    {
     "data": {
      "text/plain": [
       "0    Montreal\n",
       "1       Laval\n",
       "2    Montreal\n",
       "3    Brossard\n",
       "4       Laval\n",
       "Name: Location, dtype: object"
      ]
     },
     "execution_count": 40,
     "metadata": {},
     "output_type": "execute_result"
    }
   ],
   "source": [
    "df.Location"
   ]
  },
  {
   "cell_type": "code",
   "execution_count": 41,
   "id": "b55fef06",
   "metadata": {},
   "outputs": [
    {
     "data": {
      "text/plain": [
       "0      Mike\n",
       "1    Daniel\n",
       "2      Anna\n",
       "3      Sara\n",
       "4     James\n",
       "Name: Name, dtype: object"
      ]
     },
     "execution_count": 41,
     "metadata": {},
     "output_type": "execute_result"
    }
   ],
   "source": [
    "df.Name"
   ]
  },
  {
   "cell_type": "code",
   "execution_count": 42,
   "id": "e5c23b0c",
   "metadata": {},
   "outputs": [
    {
     "data": {
      "text/plain": [
       "0    22\n",
       "1    33\n",
       "2    44\n",
       "3    55\n",
       "4    66\n",
       "Name: Age, dtype: int64"
      ]
     },
     "execution_count": 42,
     "metadata": {},
     "output_type": "execute_result"
    }
   ],
   "source": [
    "df.Age"
   ]
  },
  {
   "cell_type": "code",
   "execution_count": 45,
   "id": "946a540b",
   "metadata": {},
   "outputs": [],
   "source": [
    "df =  pd.DataFrame(np.random.randn(50,7))"
   ]
  },
  {
   "cell_type": "code",
   "execution_count": 46,
   "id": "22e666d9",
   "metadata": {},
   "outputs": [
    {
     "data": {
      "text/html": [
       "<div>\n",
       "<style scoped>\n",
       "    .dataframe tbody tr th:only-of-type {\n",
       "        vertical-align: middle;\n",
       "    }\n",
       "\n",
       "    .dataframe tbody tr th {\n",
       "        vertical-align: top;\n",
       "    }\n",
       "\n",
       "    .dataframe thead th {\n",
       "        text-align: right;\n",
       "    }\n",
       "</style>\n",
       "<table border=\"1\" class=\"dataframe\">\n",
       "  <thead>\n",
       "    <tr style=\"text-align: right;\">\n",
       "      <th></th>\n",
       "      <th>0</th>\n",
       "      <th>1</th>\n",
       "      <th>2</th>\n",
       "      <th>3</th>\n",
       "      <th>4</th>\n",
       "      <th>5</th>\n",
       "      <th>6</th>\n",
       "    </tr>\n",
       "  </thead>\n",
       "  <tbody>\n",
       "    <tr>\n",
       "      <th>0</th>\n",
       "      <td>-0.102776</td>\n",
       "      <td>-0.918924</td>\n",
       "      <td>0.276567</td>\n",
       "      <td>-0.558351</td>\n",
       "      <td>1.155147</td>\n",
       "      <td>0.860235</td>\n",
       "      <td>0.518951</td>\n",
       "    </tr>\n",
       "    <tr>\n",
       "      <th>1</th>\n",
       "      <td>0.058367</td>\n",
       "      <td>0.344438</td>\n",
       "      <td>-0.963842</td>\n",
       "      <td>-2.338285</td>\n",
       "      <td>1.266982</td>\n",
       "      <td>-1.496682</td>\n",
       "      <td>-0.825698</td>\n",
       "    </tr>\n",
       "    <tr>\n",
       "      <th>2</th>\n",
       "      <td>-0.900878</td>\n",
       "      <td>0.489925</td>\n",
       "      <td>-0.497601</td>\n",
       "      <td>-0.124297</td>\n",
       "      <td>0.990624</td>\n",
       "      <td>2.944979</td>\n",
       "      <td>1.555461</td>\n",
       "    </tr>\n",
       "    <tr>\n",
       "      <th>3</th>\n",
       "      <td>0.151219</td>\n",
       "      <td>2.022263</td>\n",
       "      <td>0.758591</td>\n",
       "      <td>1.635999</td>\n",
       "      <td>-0.915156</td>\n",
       "      <td>1.032121</td>\n",
       "      <td>-0.357196</td>\n",
       "    </tr>\n",
       "    <tr>\n",
       "      <th>4</th>\n",
       "      <td>-1.052571</td>\n",
       "      <td>-0.958884</td>\n",
       "      <td>-0.595212</td>\n",
       "      <td>1.428770</td>\n",
       "      <td>0.460333</td>\n",
       "      <td>-0.234220</td>\n",
       "      <td>-1.156503</td>\n",
       "    </tr>\n",
       "    <tr>\n",
       "      <th>5</th>\n",
       "      <td>-0.508235</td>\n",
       "      <td>0.804234</td>\n",
       "      <td>0.336801</td>\n",
       "      <td>-1.416143</td>\n",
       "      <td>0.101719</td>\n",
       "      <td>-0.252829</td>\n",
       "      <td>-0.721623</td>\n",
       "    </tr>\n",
       "    <tr>\n",
       "      <th>6</th>\n",
       "      <td>-0.078430</td>\n",
       "      <td>0.992247</td>\n",
       "      <td>-0.202874</td>\n",
       "      <td>1.221874</td>\n",
       "      <td>0.246945</td>\n",
       "      <td>-0.143940</td>\n",
       "      <td>1.336075</td>\n",
       "    </tr>\n",
       "    <tr>\n",
       "      <th>7</th>\n",
       "      <td>-0.108576</td>\n",
       "      <td>-1.873176</td>\n",
       "      <td>0.214215</td>\n",
       "      <td>0.605051</td>\n",
       "      <td>0.375698</td>\n",
       "      <td>0.275249</td>\n",
       "      <td>-0.055771</td>\n",
       "    </tr>\n",
       "    <tr>\n",
       "      <th>8</th>\n",
       "      <td>-1.998228</td>\n",
       "      <td>-0.626069</td>\n",
       "      <td>2.715554</td>\n",
       "      <td>0.704580</td>\n",
       "      <td>0.237671</td>\n",
       "      <td>-0.242714</td>\n",
       "      <td>-0.397701</td>\n",
       "    </tr>\n",
       "    <tr>\n",
       "      <th>9</th>\n",
       "      <td>0.219667</td>\n",
       "      <td>-1.124516</td>\n",
       "      <td>0.419686</td>\n",
       "      <td>0.803135</td>\n",
       "      <td>-0.481916</td>\n",
       "      <td>0.730412</td>\n",
       "      <td>0.021362</td>\n",
       "    </tr>\n",
       "    <tr>\n",
       "      <th>10</th>\n",
       "      <td>-1.690455</td>\n",
       "      <td>-0.599153</td>\n",
       "      <td>1.008304</td>\n",
       "      <td>2.091609</td>\n",
       "      <td>0.425846</td>\n",
       "      <td>1.425239</td>\n",
       "      <td>-0.796178</td>\n",
       "    </tr>\n",
       "    <tr>\n",
       "      <th>11</th>\n",
       "      <td>1.493456</td>\n",
       "      <td>-0.227440</td>\n",
       "      <td>-1.511290</td>\n",
       "      <td>-0.124205</td>\n",
       "      <td>-0.780590</td>\n",
       "      <td>-0.660388</td>\n",
       "      <td>-1.523619</td>\n",
       "    </tr>\n",
       "    <tr>\n",
       "      <th>12</th>\n",
       "      <td>0.002142</td>\n",
       "      <td>-0.636576</td>\n",
       "      <td>-0.497367</td>\n",
       "      <td>-0.390717</td>\n",
       "      <td>-0.423597</td>\n",
       "      <td>-1.491108</td>\n",
       "      <td>0.233559</td>\n",
       "    </tr>\n",
       "    <tr>\n",
       "      <th>13</th>\n",
       "      <td>0.337183</td>\n",
       "      <td>0.693264</td>\n",
       "      <td>0.644256</td>\n",
       "      <td>0.033175</td>\n",
       "      <td>0.062857</td>\n",
       "      <td>-0.359001</td>\n",
       "      <td>3.064439</td>\n",
       "    </tr>\n",
       "    <tr>\n",
       "      <th>14</th>\n",
       "      <td>-0.510699</td>\n",
       "      <td>0.153467</td>\n",
       "      <td>-0.863545</td>\n",
       "      <td>1.586609</td>\n",
       "      <td>0.477495</td>\n",
       "      <td>0.092391</td>\n",
       "      <td>0.332679</td>\n",
       "    </tr>\n",
       "    <tr>\n",
       "      <th>15</th>\n",
       "      <td>0.504041</td>\n",
       "      <td>1.318623</td>\n",
       "      <td>-2.667843</td>\n",
       "      <td>-0.284036</td>\n",
       "      <td>-0.548333</td>\n",
       "      <td>-0.980853</td>\n",
       "      <td>-0.124159</td>\n",
       "    </tr>\n",
       "    <tr>\n",
       "      <th>16</th>\n",
       "      <td>-0.679532</td>\n",
       "      <td>0.428614</td>\n",
       "      <td>1.744577</td>\n",
       "      <td>-0.883692</td>\n",
       "      <td>0.418624</td>\n",
       "      <td>1.020493</td>\n",
       "      <td>0.844290</td>\n",
       "    </tr>\n",
       "    <tr>\n",
       "      <th>17</th>\n",
       "      <td>0.554456</td>\n",
       "      <td>1.734399</td>\n",
       "      <td>-0.245758</td>\n",
       "      <td>-0.698152</td>\n",
       "      <td>-1.053692</td>\n",
       "      <td>-2.214247</td>\n",
       "      <td>0.230229</td>\n",
       "    </tr>\n",
       "    <tr>\n",
       "      <th>18</th>\n",
       "      <td>0.427882</td>\n",
       "      <td>0.557684</td>\n",
       "      <td>0.265613</td>\n",
       "      <td>0.297281</td>\n",
       "      <td>0.711745</td>\n",
       "      <td>1.104053</td>\n",
       "      <td>-0.224044</td>\n",
       "    </tr>\n",
       "    <tr>\n",
       "      <th>19</th>\n",
       "      <td>-0.305469</td>\n",
       "      <td>1.620476</td>\n",
       "      <td>0.740366</td>\n",
       "      <td>-2.746891</td>\n",
       "      <td>-0.390326</td>\n",
       "      <td>-0.670620</td>\n",
       "      <td>-0.100091</td>\n",
       "    </tr>\n",
       "    <tr>\n",
       "      <th>20</th>\n",
       "      <td>0.383497</td>\n",
       "      <td>0.224287</td>\n",
       "      <td>-1.089605</td>\n",
       "      <td>-0.733935</td>\n",
       "      <td>-0.319862</td>\n",
       "      <td>-1.730269</td>\n",
       "      <td>-1.172730</td>\n",
       "    </tr>\n",
       "    <tr>\n",
       "      <th>21</th>\n",
       "      <td>1.268645</td>\n",
       "      <td>0.420149</td>\n",
       "      <td>-0.736306</td>\n",
       "      <td>-1.678726</td>\n",
       "      <td>0.890450</td>\n",
       "      <td>-0.083026</td>\n",
       "      <td>0.236908</td>\n",
       "    </tr>\n",
       "    <tr>\n",
       "      <th>22</th>\n",
       "      <td>1.356701</td>\n",
       "      <td>0.951055</td>\n",
       "      <td>0.460551</td>\n",
       "      <td>-0.502401</td>\n",
       "      <td>-0.443117</td>\n",
       "      <td>0.174705</td>\n",
       "      <td>-1.332373</td>\n",
       "    </tr>\n",
       "    <tr>\n",
       "      <th>23</th>\n",
       "      <td>-0.368085</td>\n",
       "      <td>1.498764</td>\n",
       "      <td>1.253394</td>\n",
       "      <td>-0.030341</td>\n",
       "      <td>-1.854401</td>\n",
       "      <td>0.140436</td>\n",
       "      <td>1.631292</td>\n",
       "    </tr>\n",
       "    <tr>\n",
       "      <th>24</th>\n",
       "      <td>1.202889</td>\n",
       "      <td>1.008179</td>\n",
       "      <td>-0.216480</td>\n",
       "      <td>1.949005</td>\n",
       "      <td>-0.609770</td>\n",
       "      <td>-1.511167</td>\n",
       "      <td>2.719999</td>\n",
       "    </tr>\n",
       "    <tr>\n",
       "      <th>25</th>\n",
       "      <td>1.057025</td>\n",
       "      <td>0.200199</td>\n",
       "      <td>0.184952</td>\n",
       "      <td>-0.586678</td>\n",
       "      <td>1.123921</td>\n",
       "      <td>-0.993636</td>\n",
       "      <td>1.077071</td>\n",
       "    </tr>\n",
       "    <tr>\n",
       "      <th>26</th>\n",
       "      <td>-0.107143</td>\n",
       "      <td>1.795761</td>\n",
       "      <td>1.036455</td>\n",
       "      <td>1.257232</td>\n",
       "      <td>0.391197</td>\n",
       "      <td>1.063596</td>\n",
       "      <td>0.092795</td>\n",
       "    </tr>\n",
       "    <tr>\n",
       "      <th>27</th>\n",
       "      <td>0.541154</td>\n",
       "      <td>1.670430</td>\n",
       "      <td>0.064614</td>\n",
       "      <td>-0.442769</td>\n",
       "      <td>0.610159</td>\n",
       "      <td>-1.151729</td>\n",
       "      <td>0.746923</td>\n",
       "    </tr>\n",
       "    <tr>\n",
       "      <th>28</th>\n",
       "      <td>1.706749</td>\n",
       "      <td>-0.957704</td>\n",
       "      <td>1.120859</td>\n",
       "      <td>1.664741</td>\n",
       "      <td>0.029474</td>\n",
       "      <td>-1.583221</td>\n",
       "      <td>0.311803</td>\n",
       "    </tr>\n",
       "    <tr>\n",
       "      <th>29</th>\n",
       "      <td>-0.019801</td>\n",
       "      <td>0.178600</td>\n",
       "      <td>0.454676</td>\n",
       "      <td>0.609223</td>\n",
       "      <td>-0.047592</td>\n",
       "      <td>-1.826774</td>\n",
       "      <td>-1.879635</td>\n",
       "    </tr>\n",
       "    <tr>\n",
       "      <th>30</th>\n",
       "      <td>-0.115307</td>\n",
       "      <td>0.127701</td>\n",
       "      <td>-0.966253</td>\n",
       "      <td>1.358217</td>\n",
       "      <td>0.011267</td>\n",
       "      <td>-0.249398</td>\n",
       "      <td>1.110018</td>\n",
       "    </tr>\n",
       "    <tr>\n",
       "      <th>31</th>\n",
       "      <td>-0.105601</td>\n",
       "      <td>0.828257</td>\n",
       "      <td>0.272544</td>\n",
       "      <td>0.012267</td>\n",
       "      <td>-2.608760</td>\n",
       "      <td>0.417566</td>\n",
       "      <td>-0.563791</td>\n",
       "    </tr>\n",
       "    <tr>\n",
       "      <th>32</th>\n",
       "      <td>0.254480</td>\n",
       "      <td>1.047492</td>\n",
       "      <td>-0.281874</td>\n",
       "      <td>-0.061290</td>\n",
       "      <td>0.094831</td>\n",
       "      <td>-0.823588</td>\n",
       "      <td>-0.583948</td>\n",
       "    </tr>\n",
       "    <tr>\n",
       "      <th>33</th>\n",
       "      <td>0.332179</td>\n",
       "      <td>-0.365317</td>\n",
       "      <td>-0.828013</td>\n",
       "      <td>0.167304</td>\n",
       "      <td>-0.002559</td>\n",
       "      <td>-0.454199</td>\n",
       "      <td>0.288382</td>\n",
       "    </tr>\n",
       "    <tr>\n",
       "      <th>34</th>\n",
       "      <td>-0.855715</td>\n",
       "      <td>-0.715763</td>\n",
       "      <td>0.567394</td>\n",
       "      <td>1.491271</td>\n",
       "      <td>-0.763291</td>\n",
       "      <td>-0.665514</td>\n",
       "      <td>-0.751547</td>\n",
       "    </tr>\n",
       "    <tr>\n",
       "      <th>35</th>\n",
       "      <td>0.250469</td>\n",
       "      <td>-1.638443</td>\n",
       "      <td>-1.511152</td>\n",
       "      <td>-2.027671</td>\n",
       "      <td>-0.294831</td>\n",
       "      <td>0.907551</td>\n",
       "      <td>1.513641</td>\n",
       "    </tr>\n",
       "    <tr>\n",
       "      <th>36</th>\n",
       "      <td>0.142675</td>\n",
       "      <td>0.618303</td>\n",
       "      <td>-0.093716</td>\n",
       "      <td>0.890126</td>\n",
       "      <td>0.620605</td>\n",
       "      <td>-0.103898</td>\n",
       "      <td>-0.159103</td>\n",
       "    </tr>\n",
       "    <tr>\n",
       "      <th>37</th>\n",
       "      <td>0.836201</td>\n",
       "      <td>0.556106</td>\n",
       "      <td>-0.050629</td>\n",
       "      <td>-1.317923</td>\n",
       "      <td>-0.792161</td>\n",
       "      <td>0.992417</td>\n",
       "      <td>0.258476</td>\n",
       "    </tr>\n",
       "    <tr>\n",
       "      <th>38</th>\n",
       "      <td>-1.207631</td>\n",
       "      <td>0.233790</td>\n",
       "      <td>-0.198936</td>\n",
       "      <td>-0.594341</td>\n",
       "      <td>1.279972</td>\n",
       "      <td>-1.897843</td>\n",
       "      <td>0.578163</td>\n",
       "    </tr>\n",
       "    <tr>\n",
       "      <th>39</th>\n",
       "      <td>-1.923594</td>\n",
       "      <td>1.273381</td>\n",
       "      <td>-0.733344</td>\n",
       "      <td>1.278997</td>\n",
       "      <td>-0.705547</td>\n",
       "      <td>0.347760</td>\n",
       "      <td>-0.136436</td>\n",
       "    </tr>\n",
       "    <tr>\n",
       "      <th>40</th>\n",
       "      <td>-1.026599</td>\n",
       "      <td>2.256926</td>\n",
       "      <td>-0.003681</td>\n",
       "      <td>-0.657842</td>\n",
       "      <td>0.537589</td>\n",
       "      <td>1.235051</td>\n",
       "      <td>1.189860</td>\n",
       "    </tr>\n",
       "    <tr>\n",
       "      <th>41</th>\n",
       "      <td>0.672252</td>\n",
       "      <td>0.825093</td>\n",
       "      <td>2.612137</td>\n",
       "      <td>-0.303623</td>\n",
       "      <td>1.287577</td>\n",
       "      <td>0.628966</td>\n",
       "      <td>0.563383</td>\n",
       "    </tr>\n",
       "    <tr>\n",
       "      <th>42</th>\n",
       "      <td>-0.298804</td>\n",
       "      <td>0.831495</td>\n",
       "      <td>-0.963744</td>\n",
       "      <td>-2.115642</td>\n",
       "      <td>0.958484</td>\n",
       "      <td>-0.919709</td>\n",
       "      <td>1.051428</td>\n",
       "    </tr>\n",
       "    <tr>\n",
       "      <th>43</th>\n",
       "      <td>-0.288059</td>\n",
       "      <td>-1.563655</td>\n",
       "      <td>-1.080405</td>\n",
       "      <td>0.230225</td>\n",
       "      <td>-0.672584</td>\n",
       "      <td>-0.965885</td>\n",
       "      <td>-1.325094</td>\n",
       "    </tr>\n",
       "    <tr>\n",
       "      <th>44</th>\n",
       "      <td>-0.615896</td>\n",
       "      <td>-0.461302</td>\n",
       "      <td>-0.054737</td>\n",
       "      <td>-0.401902</td>\n",
       "      <td>-0.037852</td>\n",
       "      <td>0.817290</td>\n",
       "      <td>3.286777</td>\n",
       "    </tr>\n",
       "    <tr>\n",
       "      <th>45</th>\n",
       "      <td>0.883390</td>\n",
       "      <td>1.921117</td>\n",
       "      <td>0.598333</td>\n",
       "      <td>-1.940499</td>\n",
       "      <td>-0.317387</td>\n",
       "      <td>2.042051</td>\n",
       "      <td>-1.759447</td>\n",
       "    </tr>\n",
       "    <tr>\n",
       "      <th>46</th>\n",
       "      <td>-1.728279</td>\n",
       "      <td>-1.040196</td>\n",
       "      <td>-0.126839</td>\n",
       "      <td>-0.868678</td>\n",
       "      <td>-0.095982</td>\n",
       "      <td>-0.870873</td>\n",
       "      <td>-1.433044</td>\n",
       "    </tr>\n",
       "    <tr>\n",
       "      <th>47</th>\n",
       "      <td>-0.313577</td>\n",
       "      <td>1.163784</td>\n",
       "      <td>1.364883</td>\n",
       "      <td>-0.250462</td>\n",
       "      <td>-2.259335</td>\n",
       "      <td>-1.581352</td>\n",
       "      <td>-2.871742</td>\n",
       "    </tr>\n",
       "    <tr>\n",
       "      <th>48</th>\n",
       "      <td>-0.770916</td>\n",
       "      <td>-1.377605</td>\n",
       "      <td>-0.099531</td>\n",
       "      <td>0.972476</td>\n",
       "      <td>0.906962</td>\n",
       "      <td>-0.518867</td>\n",
       "      <td>0.711484</td>\n",
       "    </tr>\n",
       "    <tr>\n",
       "      <th>49</th>\n",
       "      <td>-0.102851</td>\n",
       "      <td>-0.897452</td>\n",
       "      <td>-1.076660</td>\n",
       "      <td>-0.957398</td>\n",
       "      <td>1.312809</td>\n",
       "      <td>0.403220</td>\n",
       "      <td>1.166469</td>\n",
       "    </tr>\n",
       "  </tbody>\n",
       "</table>\n",
       "</div>"
      ],
      "text/plain": [
       "           0         1         2         3         4         5         6\n",
       "0  -0.102776 -0.918924  0.276567 -0.558351  1.155147  0.860235  0.518951\n",
       "1   0.058367  0.344438 -0.963842 -2.338285  1.266982 -1.496682 -0.825698\n",
       "2  -0.900878  0.489925 -0.497601 -0.124297  0.990624  2.944979  1.555461\n",
       "3   0.151219  2.022263  0.758591  1.635999 -0.915156  1.032121 -0.357196\n",
       "4  -1.052571 -0.958884 -0.595212  1.428770  0.460333 -0.234220 -1.156503\n",
       "5  -0.508235  0.804234  0.336801 -1.416143  0.101719 -0.252829 -0.721623\n",
       "6  -0.078430  0.992247 -0.202874  1.221874  0.246945 -0.143940  1.336075\n",
       "7  -0.108576 -1.873176  0.214215  0.605051  0.375698  0.275249 -0.055771\n",
       "8  -1.998228 -0.626069  2.715554  0.704580  0.237671 -0.242714 -0.397701\n",
       "9   0.219667 -1.124516  0.419686  0.803135 -0.481916  0.730412  0.021362\n",
       "10 -1.690455 -0.599153  1.008304  2.091609  0.425846  1.425239 -0.796178\n",
       "11  1.493456 -0.227440 -1.511290 -0.124205 -0.780590 -0.660388 -1.523619\n",
       "12  0.002142 -0.636576 -0.497367 -0.390717 -0.423597 -1.491108  0.233559\n",
       "13  0.337183  0.693264  0.644256  0.033175  0.062857 -0.359001  3.064439\n",
       "14 -0.510699  0.153467 -0.863545  1.586609  0.477495  0.092391  0.332679\n",
       "15  0.504041  1.318623 -2.667843 -0.284036 -0.548333 -0.980853 -0.124159\n",
       "16 -0.679532  0.428614  1.744577 -0.883692  0.418624  1.020493  0.844290\n",
       "17  0.554456  1.734399 -0.245758 -0.698152 -1.053692 -2.214247  0.230229\n",
       "18  0.427882  0.557684  0.265613  0.297281  0.711745  1.104053 -0.224044\n",
       "19 -0.305469  1.620476  0.740366 -2.746891 -0.390326 -0.670620 -0.100091\n",
       "20  0.383497  0.224287 -1.089605 -0.733935 -0.319862 -1.730269 -1.172730\n",
       "21  1.268645  0.420149 -0.736306 -1.678726  0.890450 -0.083026  0.236908\n",
       "22  1.356701  0.951055  0.460551 -0.502401 -0.443117  0.174705 -1.332373\n",
       "23 -0.368085  1.498764  1.253394 -0.030341 -1.854401  0.140436  1.631292\n",
       "24  1.202889  1.008179 -0.216480  1.949005 -0.609770 -1.511167  2.719999\n",
       "25  1.057025  0.200199  0.184952 -0.586678  1.123921 -0.993636  1.077071\n",
       "26 -0.107143  1.795761  1.036455  1.257232  0.391197  1.063596  0.092795\n",
       "27  0.541154  1.670430  0.064614 -0.442769  0.610159 -1.151729  0.746923\n",
       "28  1.706749 -0.957704  1.120859  1.664741  0.029474 -1.583221  0.311803\n",
       "29 -0.019801  0.178600  0.454676  0.609223 -0.047592 -1.826774 -1.879635\n",
       "30 -0.115307  0.127701 -0.966253  1.358217  0.011267 -0.249398  1.110018\n",
       "31 -0.105601  0.828257  0.272544  0.012267 -2.608760  0.417566 -0.563791\n",
       "32  0.254480  1.047492 -0.281874 -0.061290  0.094831 -0.823588 -0.583948\n",
       "33  0.332179 -0.365317 -0.828013  0.167304 -0.002559 -0.454199  0.288382\n",
       "34 -0.855715 -0.715763  0.567394  1.491271 -0.763291 -0.665514 -0.751547\n",
       "35  0.250469 -1.638443 -1.511152 -2.027671 -0.294831  0.907551  1.513641\n",
       "36  0.142675  0.618303 -0.093716  0.890126  0.620605 -0.103898 -0.159103\n",
       "37  0.836201  0.556106 -0.050629 -1.317923 -0.792161  0.992417  0.258476\n",
       "38 -1.207631  0.233790 -0.198936 -0.594341  1.279972 -1.897843  0.578163\n",
       "39 -1.923594  1.273381 -0.733344  1.278997 -0.705547  0.347760 -0.136436\n",
       "40 -1.026599  2.256926 -0.003681 -0.657842  0.537589  1.235051  1.189860\n",
       "41  0.672252  0.825093  2.612137 -0.303623  1.287577  0.628966  0.563383\n",
       "42 -0.298804  0.831495 -0.963744 -2.115642  0.958484 -0.919709  1.051428\n",
       "43 -0.288059 -1.563655 -1.080405  0.230225 -0.672584 -0.965885 -1.325094\n",
       "44 -0.615896 -0.461302 -0.054737 -0.401902 -0.037852  0.817290  3.286777\n",
       "45  0.883390  1.921117  0.598333 -1.940499 -0.317387  2.042051 -1.759447\n",
       "46 -1.728279 -1.040196 -0.126839 -0.868678 -0.095982 -0.870873 -1.433044\n",
       "47 -0.313577  1.163784  1.364883 -0.250462 -2.259335 -1.581352 -2.871742\n",
       "48 -0.770916 -1.377605 -0.099531  0.972476  0.906962 -0.518867  0.711484\n",
       "49 -0.102851 -0.897452 -1.076660 -0.957398  1.312809  0.403220  1.166469"
      ]
     },
     "execution_count": 46,
     "metadata": {},
     "output_type": "execute_result"
    }
   ],
   "source": [
    "df"
   ]
  },
  {
   "cell_type": "code",
   "execution_count": 47,
   "id": "23704e49",
   "metadata": {},
   "outputs": [
    {
     "data": {
      "text/html": [
       "<div>\n",
       "<style scoped>\n",
       "    .dataframe tbody tr th:only-of-type {\n",
       "        vertical-align: middle;\n",
       "    }\n",
       "\n",
       "    .dataframe tbody tr th {\n",
       "        vertical-align: top;\n",
       "    }\n",
       "\n",
       "    .dataframe thead th {\n",
       "        text-align: right;\n",
       "    }\n",
       "</style>\n",
       "<table border=\"1\" class=\"dataframe\">\n",
       "  <thead>\n",
       "    <tr style=\"text-align: right;\">\n",
       "      <th></th>\n",
       "      <th>0</th>\n",
       "      <th>1</th>\n",
       "      <th>2</th>\n",
       "      <th>3</th>\n",
       "      <th>4</th>\n",
       "      <th>5</th>\n",
       "      <th>6</th>\n",
       "    </tr>\n",
       "  </thead>\n",
       "  <tbody>\n",
       "    <tr>\n",
       "      <th>0</th>\n",
       "      <td>-0.102776</td>\n",
       "      <td>-0.918924</td>\n",
       "      <td>0.276567</td>\n",
       "      <td>-0.558351</td>\n",
       "      <td>1.155147</td>\n",
       "      <td>0.860235</td>\n",
       "      <td>0.518951</td>\n",
       "    </tr>\n",
       "    <tr>\n",
       "      <th>1</th>\n",
       "      <td>0.058367</td>\n",
       "      <td>0.344438</td>\n",
       "      <td>-0.963842</td>\n",
       "      <td>-2.338285</td>\n",
       "      <td>1.266982</td>\n",
       "      <td>-1.496682</td>\n",
       "      <td>-0.825698</td>\n",
       "    </tr>\n",
       "    <tr>\n",
       "      <th>2</th>\n",
       "      <td>-0.900878</td>\n",
       "      <td>0.489925</td>\n",
       "      <td>-0.497601</td>\n",
       "      <td>-0.124297</td>\n",
       "      <td>0.990624</td>\n",
       "      <td>2.944979</td>\n",
       "      <td>1.555461</td>\n",
       "    </tr>\n",
       "    <tr>\n",
       "      <th>3</th>\n",
       "      <td>0.151219</td>\n",
       "      <td>2.022263</td>\n",
       "      <td>0.758591</td>\n",
       "      <td>1.635999</td>\n",
       "      <td>-0.915156</td>\n",
       "      <td>1.032121</td>\n",
       "      <td>-0.357196</td>\n",
       "    </tr>\n",
       "    <tr>\n",
       "      <th>4</th>\n",
       "      <td>-1.052571</td>\n",
       "      <td>-0.958884</td>\n",
       "      <td>-0.595212</td>\n",
       "      <td>1.428770</td>\n",
       "      <td>0.460333</td>\n",
       "      <td>-0.234220</td>\n",
       "      <td>-1.156503</td>\n",
       "    </tr>\n",
       "  </tbody>\n",
       "</table>\n",
       "</div>"
      ],
      "text/plain": [
       "          0         1         2         3         4         5         6\n",
       "0 -0.102776 -0.918924  0.276567 -0.558351  1.155147  0.860235  0.518951\n",
       "1  0.058367  0.344438 -0.963842 -2.338285  1.266982 -1.496682 -0.825698\n",
       "2 -0.900878  0.489925 -0.497601 -0.124297  0.990624  2.944979  1.555461\n",
       "3  0.151219  2.022263  0.758591  1.635999 -0.915156  1.032121 -0.357196\n",
       "4 -1.052571 -0.958884 -0.595212  1.428770  0.460333 -0.234220 -1.156503"
      ]
     },
     "execution_count": 47,
     "metadata": {},
     "output_type": "execute_result"
    }
   ],
   "source": [
    "df.head()"
   ]
  },
  {
   "cell_type": "code",
   "execution_count": null,
   "id": "207f41f3",
   "metadata": {},
   "outputs": [],
   "source": []
  }
 ],
 "metadata": {
  "kernelspec": {
   "display_name": "Python 3 (ipykernel)",
   "language": "python",
   "name": "python3"
  },
  "language_info": {
   "codemirror_mode": {
    "name": "ipython",
    "version": 3
   },
   "file_extension": ".py",
   "mimetype": "text/x-python",
   "name": "python",
   "nbconvert_exporter": "python",
   "pygments_lexer": "ipython3",
   "version": "3.12.3"
  }
 },
 "nbformat": 4,
 "nbformat_minor": 5
}
