{
 "cells": [
  {
   "cell_type": "code",
   "execution_count": 1,
   "id": "585f6da5",
   "metadata": {},
   "outputs": [],
   "source": [
    "from sklearn.metrics import accuracy_score \n",
    "from sklearn.metrics import classification_report\n",
    "from sklearn.metrics import confusion_matrix"
   ]
  },
  {
   "cell_type": "code",
   "execution_count": 2,
   "id": "d6935980",
   "metadata": {},
   "outputs": [],
   "source": [
    "actual = ['spam','spam','real','spam','real','spam','spam','spam','real','spam']"
   ]
  },
  {
   "cell_type": "code",
   "execution_count": 3,
   "id": "2a3dc4e9",
   "metadata": {},
   "outputs": [],
   "source": [
    "predicted = ['real','real','real','real','spam','spam','spam','real','real','spam']"
   ]
  },
  {
   "cell_type": "markdown",
   "id": "92c4cd7a",
   "metadata": {},
   "source": [
    "### Spam + and Real -"
   ]
  },
  {
   "cell_type": "code",
   "execution_count": 4,
   "id": "b467aeb7",
   "metadata": {},
   "outputs": [
    {
     "name": "stdout",
     "output_type": "stream",
     "text": [
      "[[3 4]\n",
      " [1 2]]\n"
     ]
    }
   ],
   "source": [
    "print(confusion_matrix(actual, predicted, labels=['spam','real']))"
   ]
  },
  {
   "cell_type": "code",
   "execution_count": 5,
   "id": "d5472a83",
   "metadata": {},
   "outputs": [
    {
     "name": "stdout",
     "output_type": "stream",
     "text": [
      "Accuracy is 50.0%.\n"
     ]
    }
   ],
   "source": [
    "print(f\"Accuracy is {accuracy_score(actual, predicted)*100}%.\")"
   ]
  },
  {
   "cell_type": "code",
   "execution_count": 6,
   "id": "f252208d",
   "metadata": {},
   "outputs": [
    {
     "name": "stdout",
     "output_type": "stream",
     "text": [
      "              precision    recall  f1-score   support\n",
      "\n",
      "        real       0.33      0.67      0.44         3\n",
      "        spam       0.75      0.43      0.55         7\n",
      "\n",
      "    accuracy                           0.50        10\n",
      "   macro avg       0.54      0.55      0.49        10\n",
      "weighted avg       0.62      0.50      0.52        10\n",
      "\n"
     ]
    }
   ],
   "source": [
    "print(classification_report(actual, predicted))"
   ]
  },
  {
   "cell_type": "code",
   "execution_count": null,
   "id": "cd85a470",
   "metadata": {},
   "outputs": [],
   "source": []
  }
 ],
 "metadata": {
  "kernelspec": {
   "display_name": "Python 3 (ipykernel)",
   "language": "python",
   "name": "python3"
  },
  "language_info": {
   "codemirror_mode": {
    "name": "ipython",
    "version": 3
   },
   "file_extension": ".py",
   "mimetype": "text/x-python",
   "name": "python",
   "nbconvert_exporter": "python",
   "pygments_lexer": "ipython3",
   "version": "3.12.3"
  }
 },
 "nbformat": 4,
 "nbformat_minor": 5
}
