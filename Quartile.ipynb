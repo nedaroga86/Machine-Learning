{
 "cells": [
  {
   "cell_type": "code",
   "execution_count": 1,
   "id": "320f9ffa-97a4-45f1-b177-97990ee46460",
   "metadata": {},
   "outputs": [],
   "source": [
    "import numpy as np"
   ]
  },
  {
   "cell_type": "code",
   "execution_count": 3,
   "id": "dfd59e07-02f7-48dd-86e0-3f9825b74656",
   "metadata": {},
   "outputs": [
    {
     "data": {
      "text/plain": [
       "array([ 1,  2,  3,  4,  5,  6,  7,  8,  9, 10, 11])"
      ]
     },
     "execution_count": 3,
     "metadata": {},
     "output_type": "execute_result"
    }
   ],
   "source": [
    "a = np.array([1,2,3,4,5,6,7,8,9,10,11])\n",
    "a"
   ]
  },
  {
   "cell_type": "code",
   "execution_count": 9,
   "id": "cab165ec-87f1-4483-b954-63f0d5cd8ba9",
   "metadata": {},
   "outputs": [],
   "source": [
    "## How numpy calculate quantile. It sortes the values if they need\n",
    "##  Formula numpy 1 + (fraction * (n-1))\n",
    "## q1 = 1 + (0.25 * (n-1))\n",
    "## q2 = 1 + (0.50 * (n-1))\n",
    "## q3 = 1 + (0.75 * (n-1))"
   ]
  },
  {
   "cell_type": "code",
   "execution_count": 6,
   "id": "38de0d7e-3dda-4951-b105-a3200dd254cf",
   "metadata": {},
   "outputs": [
    {
     "data": {
      "text/plain": [
       "3.5"
      ]
     },
     "execution_count": 6,
     "metadata": {},
     "output_type": "execute_result"
    }
   ],
   "source": [
    "np.quantile(a,0.25)"
   ]
  },
  {
   "cell_type": "code",
   "execution_count": 7,
   "id": "07446c6c-f5c7-47c6-8e3e-cffc0fb2e9a3",
   "metadata": {},
   "outputs": [
    {
     "data": {
      "text/plain": [
       "6.0"
      ]
     },
     "execution_count": 7,
     "metadata": {},
     "output_type": "execute_result"
    }
   ],
   "source": [
    "np.quantile(a,0.5)"
   ]
  },
  {
   "cell_type": "code",
   "execution_count": 8,
   "id": "e6c02e53-db13-4690-91b8-82d0e78cdb2a",
   "metadata": {},
   "outputs": [
    {
     "data": {
      "text/plain": [
       "8.5"
      ]
     },
     "execution_count": 8,
     "metadata": {},
     "output_type": "execute_result"
    }
   ],
   "source": [
    "np.quantile(a,0.75)"
   ]
  },
  {
   "cell_type": "code",
   "execution_count": 11,
   "id": "55857965-a946-4a4f-9c43-2e626e2d5ac3",
   "metadata": {},
   "outputs": [
    {
     "data": {
      "text/plain": [
       "3"
      ]
     },
     "execution_count": 11,
     "metadata": {},
     "output_type": "execute_result"
    }
   ],
   "source": [
    "np.quantile(a,0.25, interpolation = 'lower') # quarter1"
   ]
  },
  {
   "cell_type": "code",
   "execution_count": 14,
   "id": "f8d55d60-ad7e-4bc3-87ce-0168c4881383",
   "metadata": {},
   "outputs": [
    {
     "data": {
      "text/plain": [
       "6"
      ]
     },
     "execution_count": 14,
     "metadata": {},
     "output_type": "execute_result"
    }
   ],
   "source": [
    "np.quantile(a,0.50, interpolation = 'lower')"
   ]
  },
  {
   "cell_type": "code",
   "execution_count": 15,
   "id": "a0baa5c4-e625-46e4-9d3f-25f3dd53b517",
   "metadata": {},
   "outputs": [
    {
     "data": {
      "text/plain": [
       "8"
      ]
     },
     "execution_count": 15,
     "metadata": {},
     "output_type": "execute_result"
    }
   ],
   "source": [
    "np.quantile(a,0.75, interpolation = 'lower')"
   ]
  },
  {
   "cell_type": "code",
   "execution_count": 16,
   "id": "2c1a0049-2273-43e4-9a6c-a04478df2148",
   "metadata": {},
   "outputs": [
    {
     "data": {
      "text/plain": [
       "'1.26.3'"
      ]
     },
     "execution_count": 16,
     "metadata": {},
     "output_type": "execute_result"
    }
   ],
   "source": [
    "np.__version__"
   ]
  },
  {
   "cell_type": "code",
   "execution_count": null,
   "id": "4a4d09e5-79e5-4ee9-9258-8a82a2ff498b",
   "metadata": {},
   "outputs": [],
   "source": []
  }
 ],
 "metadata": {
  "kernelspec": {
   "display_name": "Python 3 (ipykernel)",
   "language": "python",
   "name": "python3"
  },
  "language_info": {
   "codemirror_mode": {
    "name": "ipython",
    "version": 3
   },
   "file_extension": ".py",
   "mimetype": "text/x-python",
   "name": "python",
   "nbconvert_exporter": "python",
   "pygments_lexer": "ipython3",
   "version": "3.12.3"
  }
 },
 "nbformat": 4,
 "nbformat_minor": 5
}
